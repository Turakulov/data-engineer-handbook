{
 "cells": [
  {
   "cell_type": "code",
   "execution_count": 2,
   "id": "0f9c336b-356f-4040-b38c-0e48e7549baa",
   "metadata": {},
   "outputs": [
    {
     "name": "stdout",
     "output_type": "stream",
     "text": [
      "Collecting chispa\n",
      "  Downloading chispa-0.10.1-py3-none-any.whl (16 kB)\n",
      "Collecting pytest\n",
      "  Downloading pytest-8.3.4-py3-none-any.whl (343 kB)\n",
      "\u001b[2K     \u001b[90m━━━━━━━━━━━━━━━━━━━━━━━━━━━━━━━━━━━━━━━\u001b[0m \u001b[32m343.1/343.1 kB\u001b[0m \u001b[31m2.5 MB/s\u001b[0m eta \u001b[36m0:00:00\u001b[0ma \u001b[36m0:00:01\u001b[0m\n",
      "\u001b[?25hRequirement already satisfied: pyspark in /opt/spark/python (from -r requirements.txt (line 3)) (3.5.1)\n",
      "Collecting prettytable<4.0.0,>=3.10.2\n",
      "  Downloading prettytable-3.12.0-py3-none-any.whl (31 kB)\n",
      "Requirement already satisfied: tomli>=1 in /usr/local/lib/python3.9/site-packages (from pytest->-r requirements.txt (line 2)) (2.0.1)\n",
      "Requirement already satisfied: packaging in /usr/local/lib/python3.9/site-packages (from pytest->-r requirements.txt (line 2)) (24.0)\n",
      "Collecting iniconfig\n",
      "  Downloading iniconfig-2.0.0-py3-none-any.whl (5.9 kB)\n",
      "Collecting pluggy<2,>=1.5\n",
      "  Downloading pluggy-1.5.0-py3-none-any.whl (20 kB)\n",
      "Requirement already satisfied: exceptiongroup>=1.0.0rc8 in /usr/local/lib/python3.9/site-packages (from pytest->-r requirements.txt (line 2)) (1.2.0)\n",
      "Collecting py4j==0.10.9.7\n",
      "  Downloading py4j-0.10.9.7-py2.py3-none-any.whl (200 kB)\n",
      "\u001b[2K     \u001b[90m━━━━━━━━━━━━━━━━━━━━━━━━━━━━━━━━━━━━━━━\u001b[0m \u001b[32m200.5/200.5 kB\u001b[0m \u001b[31m3.3 MB/s\u001b[0m eta \u001b[36m0:00:00\u001b[0ma \u001b[36m0:00:01\u001b[0m\n",
      "\u001b[?25hRequirement already satisfied: numpy>=1.15 in /usr/local/lib/python3.9/site-packages (from pyspark->-r requirements.txt (line 3)) (1.26.4)\n",
      "Requirement already satisfied: pandas>=1.0.5 in /usr/local/lib/python3.9/site-packages (from pyspark->-r requirements.txt (line 3)) (2.2.1)\n",
      "Requirement already satisfied: pyarrow>=4.0.0 in /usr/local/lib/python3.9/site-packages (from pyspark->-r requirements.txt (line 3)) (15.0.1)\n",
      "Requirement already satisfied: pytz>=2020.1 in /usr/local/lib/python3.9/site-packages (from pandas>=1.0.5->pyspark->-r requirements.txt (line 3)) (2024.1)\n",
      "Requirement already satisfied: tzdata>=2022.7 in /usr/local/lib/python3.9/site-packages (from pandas>=1.0.5->pyspark->-r requirements.txt (line 3)) (2024.1)\n",
      "Requirement already satisfied: python-dateutil>=2.8.2 in /usr/local/lib/python3.9/site-packages (from pandas>=1.0.5->pyspark->-r requirements.txt (line 3)) (2.9.0.post0)\n",
      "Requirement already satisfied: wcwidth in /usr/local/lib/python3.9/site-packages (from prettytable<4.0.0,>=3.10.2->chispa->-r requirements.txt (line 1)) (0.2.13)\n",
      "Requirement already satisfied: six>=1.5 in /usr/local/lib/python3.9/site-packages (from python-dateutil>=2.8.2->pandas>=1.0.5->pyspark->-r requirements.txt (line 3)) (1.16.0)\n",
      "Installing collected packages: py4j, prettytable, pluggy, iniconfig, pytest, chispa\n",
      "  Attempting uninstall: prettytable\n",
      "    Found existing installation: prettytable 3.10.0\n",
      "    Uninstalling prettytable-3.10.0:\n",
      "      Successfully uninstalled prettytable-3.10.0\n",
      "Successfully installed chispa-0.10.1 iniconfig-2.0.0 pluggy-1.5.0 prettytable-3.12.0 py4j-0.10.9.7 pytest-8.3.4\n",
      "\u001b[33mWARNING: Running pip as the 'root' user can result in broken permissions and conflicting behaviour with the system package manager. It is recommended to use a virtual environment instead: https://pip.pypa.io/warnings/venv\u001b[0m\u001b[33m\n",
      "\u001b[0m\n",
      "\u001b[1m[\u001b[0m\u001b[34;49mnotice\u001b[0m\u001b[1;39;49m]\u001b[0m\u001b[39;49m A new release of pip is available: \u001b[0m\u001b[31;49m23.0.1\u001b[0m\u001b[39;49m -> \u001b[0m\u001b[32;49m24.3.1\u001b[0m\n",
      "\u001b[1m[\u001b[0m\u001b[34;49mnotice\u001b[0m\u001b[1;39;49m]\u001b[0m\u001b[39;49m To update, run: \u001b[0m\u001b[32;49mpip install --upgrade pip\u001b[0m\n",
      "Note: you may need to restart the kernel to use updated packages.\n"
     ]
    }
   ],
   "source": [
    "pip install -r requirements.txt"
   ]
  },
  {
   "cell_type": "code",
   "execution_count": 3,
   "id": "11c66136-f2bd-43c2-b39e-ce816690f8fe",
   "metadata": {},
   "outputs": [
    {
     "ename": "SyntaxError",
     "evalue": "invalid syntax (3522361780.py, line 1)",
     "output_type": "error",
     "traceback": [
      "\u001b[0;36m  Cell \u001b[0;32mIn[3], line 1\u001b[0;36m\u001b[0m\n\u001b[0;31m    python3 -m pytest\u001b[0m\n\u001b[0m               ^\u001b[0m\n\u001b[0;31mSyntaxError\u001b[0m\u001b[0;31m:\u001b[0m invalid syntax\n"
     ]
    }
   ],
   "source": [
    "python3 -m pytest"
   ]
  },
  {
   "cell_type": "code",
   "execution_count": 1,
   "id": "50ca6705-fb6e-40de-a145-b94e09532797",
   "metadata": {},
   "outputs": [
    {
     "name": "stderr",
     "output_type": "stream",
     "text": [
      "25/01/05 11:25:16 WARN SparkSession: Using an existing Spark session; only runtime SQL configurations will take effect.\n"
     ]
    }
   ],
   "source": [
    "from pyspark.sql import SparkSession\n",
    "from pyspark.sql.functions import  broadcast, expr, col\n",
    "spark = SparkSession.builder \\\n",
    "                    .appName(\"Jupyter\") \\\n",
    "                    .config(\"spark.sql.autoBroadcastJoinThreshold\", \"-1\") \\\n",
    "                    .getOrCreate()"
   ]
  },
  {
   "cell_type": "code",
   "execution_count": 2,
   "id": "4e19be87-64e0-4b81-a78d-5995570756a4",
   "metadata": {},
   "outputs": [
    {
     "name": "stderr",
     "output_type": "stream",
     "text": [
      "                                                                                \r"
     ]
    },
    {
     "name": "stdout",
     "output_type": "stream",
     "text": [
      "PRINT actors_df  DataFrame[actorid: string, actor: string, films: array<array<string>>, quality_class: string, current_year: bigint] Row(actorid='nm0001128', actor='Alain Delon', films=[['Le Cercle Rouge', 'The Love Mates', 'Borsalino'], ['22796', '236', '3578'], ['8.0', '5.8', '7.0'], ['1970', '1970', '1970']], quality_class='average', current_year=1970)\n",
      "PRINT actors_films_df  DataFrame[actor: string, actorid: string, year: bigint, film: string, votes: bigint, rating: double] Row(actor='Alain Delon', actorid='nm0001128', year=1971, film='Fantasia Among the Squares', votes=223, rating=4.5)\n"
     ]
    }
   ],
   "source": [
    "from collections import namedtuple\n",
    "\n",
    "Actor = namedtuple(\"Actor\", \"actorid actor films quality_class current_year\")\n",
    "ActorFilms = namedtuple(\"ActorFilms\", \"actor actorid year film votes rating\")\n",
    "ActorCumulative = namedtuple(\"ActorCumulative\", \"actorid actor films quality_class is_active current_year\")\n",
    "\n",
    "\n",
    "actors_data = [\n",
    "        Actor(\"nm0001128\"\n",
    "              , \"Alain Delon\"\n",
    "              , [[\"Le Cercle Rouge\",\"The Love Mates\",\"Borsalino\"],[22796, 236, 3578],[8.0,5.8,7.0],[1970,1970,1970]]\n",
    "              , \"average\"\n",
    "              , 1970),\n",
    "        Actor(\"nm0000257\"\n",
    "              , \"Alan Alda\"\n",
    "              , [[\"The Moonshine War\",\"Jenny\"],[468, 137],[5.9,5.5],[1970,1970]]\n",
    "              , \"bad\"\n",
    "              , 1970),\n",
    "        Actor(\"nm0000273\"\n",
    "              , \"Alan Arkin\"\n",
    "              , [[\"Catch-22\"], [22272], [7.0],[1970]]\n",
    "              , \"good\"\n",
    "              , 1970),\n",
    "        Actor(\"nm0000869\"\n",
    "              , \"Alan Bates\"\n",
    "              , [[\"Three Sisters\"], [364], [6.5],[1970]]\n",
    "              , \"average\"\n",
    "              , 1970)\n",
    "]\n",
    "actors_df = spark.createDataFrame(actors_data)\n",
    "print(\"PRINT actors_df \", actors_df, actors_df.head())\n",
    "actors_films_data = [\n",
    "    ActorFilms(\"Alain Delon\"\n",
    "          , \"nm0001128\"\n",
    "          , 1971\n",
    "          , \"Fantasia Among the Squares\"\n",
    "          , 223\n",
    "          , 4.5),\n",
    "    ActorFilms(\"Alain Delon\"\n",
    "        , \"nm0001128\"\n",
    "        , 1971\n",
    "        , \"La veuve Couderc\"\n",
    "        , 1468\n",
    "        , 6.9),\n",
    "    ActorFilms(\"Adam Arkin\"\n",
    "          , \"nm0035060\"\n",
    "          , 1971\n",
    "          , \"Made for Each Other\"\n",
    "          , 308\n",
    "          , 6.3)\n",
    "]\n",
    "actors_films_df = spark.createDataFrame(actors_films_data)\n",
    "print(\"PRINT actors_films_df \", actors_films_df, actors_films_df.head())\n"
   ]
  },
  {
   "cell_type": "code",
   "execution_count": 3,
   "id": "338d3db8-6dc2-4dfb-ab98-efc51d5f5f7d",
   "metadata": {},
   "outputs": [],
   "source": [
    "actors_df.createOrReplaceTempView(\"actors\")\n",
    "actors_films_df.createOrReplaceTempView(\"actor_films\")"
   ]
  },
  {
   "cell_type": "code",
   "execution_count": 4,
   "id": "aa24aeb0-93bc-460e-9a80-2bc86d3514df",
   "metadata": {},
   "outputs": [
    {
     "data": {
      "text/html": [
       "<table>\n",
       "    <thead>\n",
       "        <tr>\n",
       "            <th>actorid</th>\n",
       "            <th>actor</th>\n",
       "            <th>films</th>\n",
       "            <th>quality_class</th>\n",
       "            <th>current_year</th>\n",
       "        </tr>\n",
       "    </thead>\n",
       "    <tbody>\n",
       "        <tr>\n",
       "            <td>nm0001128</td>\n",
       "            <td>Alain Delon</td>\n",
       "            <td>[[&#x27;Le Cercle Rouge&#x27;, &#x27;The Love Mates&#x27;, &#x27;Borsalino&#x27;], [&#x27;22796&#x27;, &#x27;236&#x27;, &#x27;3578&#x27;], [&#x27;8.0&#x27;, &#x27;5.8&#x27;, &#x27;7.0&#x27;], [&#x27;1970&#x27;, &#x27;1970&#x27;, &#x27;1970&#x27;]]</td>\n",
       "            <td>average</td>\n",
       "            <td>1970</td>\n",
       "        </tr>\n",
       "        <tr>\n",
       "            <td>nm0000257</td>\n",
       "            <td>Alan Alda</td>\n",
       "            <td>[[&#x27;The Moonshine War&#x27;, &#x27;Jenny&#x27;], [&#x27;468&#x27;, &#x27;137&#x27;], [&#x27;5.9&#x27;, &#x27;5.5&#x27;], [&#x27;1970&#x27;, &#x27;1970&#x27;]]</td>\n",
       "            <td>bad</td>\n",
       "            <td>1970</td>\n",
       "        </tr>\n",
       "        <tr>\n",
       "            <td>nm0000273</td>\n",
       "            <td>Alan Arkin</td>\n",
       "            <td>[[&#x27;Catch-22&#x27;], [&#x27;22272&#x27;], [&#x27;7.0&#x27;], [&#x27;1970&#x27;]]</td>\n",
       "            <td>good</td>\n",
       "            <td>1970</td>\n",
       "        </tr>\n",
       "        <tr>\n",
       "            <td>nm0000869</td>\n",
       "            <td>Alan Bates</td>\n",
       "            <td>[[&#x27;Three Sisters&#x27;], [&#x27;364&#x27;], [&#x27;6.5&#x27;], [&#x27;1970&#x27;]]</td>\n",
       "            <td>average</td>\n",
       "            <td>1970</td>\n",
       "        </tr>\n",
       "    </tbody>\n",
       "</table>"
      ],
      "text/plain": [
       "+-----------+-------------+---------------------------------------------------------------------------------------------------------------------------------+---------------+--------------+\n",
       "|   actorid |       actor |                                                                                                                           films | quality_class | current_year |\n",
       "+-----------+-------------+---------------------------------------------------------------------------------------------------------------------------------+---------------+--------------+\n",
       "| nm0001128 | Alain Delon | [['Le Cercle Rouge', 'The Love Mates', 'Borsalino'], ['22796', '236', '3578'], ['8.0', '5.8', '7.0'], ['1970', '1970', '1970']] |       average |         1970 |\n",
       "| nm0000257 |   Alan Alda |                                              [['The Moonshine War', 'Jenny'], ['468', '137'], ['5.9', '5.5'], ['1970', '1970']] |           bad |         1970 |\n",
       "| nm0000273 |  Alan Arkin |                                                                                    [['Catch-22'], ['22272'], ['7.0'], ['1970']] |          good |         1970 |\n",
       "| nm0000869 |  Alan Bates |                                                                                 [['Three Sisters'], ['364'], ['6.5'], ['1970']] |       average |         1970 |\n",
       "+-----------+-------------+---------------------------------------------------------------------------------------------------------------------------------+---------------+--------------+"
      ]
     },
     "execution_count": 4,
     "metadata": {},
     "output_type": "execute_result"
    }
   ],
   "source": [
    "%%sql\n",
    "\n",
    "SELECT actorid, actor, films, quality_class, current_year\n",
    "    FROM actors\n",
    "    WHERE current_year = 1970"
   ]
  },
  {
   "cell_type": "code",
   "execution_count": 9,
   "id": "73e91131-6cb1-4732-9a46-ab6434abc3e8",
   "metadata": {},
   "outputs": [
    {
     "data": {
      "text/html": [
       "<table>\n",
       "    <thead>\n",
       "        <tr>\n",
       "            <th>actor</th>\n",
       "            <th>actorid</th>\n",
       "            <th>year</th>\n",
       "            <th>films</th>\n",
       "            <th>quality_class</th>\n",
       "            <th>is_active</th>\n",
       "        </tr>\n",
       "    </thead>\n",
       "    <tbody>\n",
       "        <tr>\n",
       "            <td>Alain Delon</td>\n",
       "            <td>nm0001128</td>\n",
       "            <td>1971</td>\n",
       "            <td>[[&#x27;Fantasia Among the Squares&#x27;, &#x27;La veuve Couderc&#x27;], [&#x27;223&#x27;, &#x27;1468&#x27;], [&#x27;4.5&#x27;, &#x27;6.9&#x27;], [&#x27;1971&#x27;, &#x27;1971&#x27;]]</td>\n",
       "            <td>bad</td>\n",
       "            <td>True</td>\n",
       "        </tr>\n",
       "        <tr>\n",
       "            <td>Adam Arkin</td>\n",
       "            <td>nm0035060</td>\n",
       "            <td>1971</td>\n",
       "            <td>[[&#x27;Made for Each Other&#x27;], [&#x27;308&#x27;], [&#x27;6.3&#x27;], [&#x27;1971&#x27;]]</td>\n",
       "            <td>average</td>\n",
       "            <td>True</td>\n",
       "        </tr>\n",
       "    </tbody>\n",
       "</table>"
      ],
      "text/plain": [
       "+-------------+-----------+------+---------------------------------------------------------------------------------------------------------+---------------+-----------+\n",
       "|       actor |   actorid | year |                                                                                                   films | quality_class | is_active |\n",
       "+-------------+-----------+------+---------------------------------------------------------------------------------------------------------+---------------+-----------+\n",
       "| Alain Delon | nm0001128 | 1971 | [['Fantasia Among the Squares', 'La veuve Couderc'], ['223', '1468'], ['4.5', '6.9'], ['1971', '1971']] |           bad |      True |\n",
       "|  Adam Arkin | nm0035060 | 1971 |                                                   [['Made for Each Other'], ['308'], ['6.3'], ['1971']] |       average |      True |\n",
       "+-------------+-----------+------+---------------------------------------------------------------------------------------------------------+---------------+-----------+"
      ]
     },
     "execution_count": 9,
     "metadata": {},
     "output_type": "execute_result"
    }
   ],
   "source": [
    "%%sql\n",
    "    \n",
    "SELECT\n",
    "        actor,\n",
    "        actorid,\n",
    "        year,\n",
    "        ARRAY(ARRAY_AGG(film), ARRAY_AGG(votes), ARRAY_AGG(rating), ARRAY_AGG(year)) AS films,\n",
    "        -- ARRAY_AGG(ARRAY(ARRAY(film), ARRAY(votes), ARRAY(rating), ARRAY(year))) AS films,\n",
    "        CASE \n",
    "            WHEN avg(rating) > 8 THEN 'star'\n",
    "            WHEN avg(rating) > 7 AND avg(rating) <= 8 THEN 'good'\n",
    "            WHEN avg(rating) > 6 AND avg(rating) <= 7 THEN 'average'\n",
    "            WHEN avg(rating) <= 6 THEN 'bad'\n",
    "        END as quality_class,\n",
    "        TRUE AS is_active  \n",
    "    FROM actor_films\n",
    "    WHERE year = 1971\n",
    "    GROUP BY actor, actorid, year"
   ]
  },
  {
   "cell_type": "code",
   "execution_count": 16,
   "id": "d4b53620-7a1b-4460-8f0c-68c75de45331",
   "metadata": {},
   "outputs": [
    {
     "data": {
      "text/html": [
       "<table>\n",
       "    <thead>\n",
       "        <tr>\n",
       "            <th>actorid</th>\n",
       "            <th>actor</th>\n",
       "            <th>t1</th>\n",
       "            <th>t2</th>\n",
       "            <th>films</th>\n",
       "            <th>quality_class</th>\n",
       "            <th>is_active</th>\n",
       "            <th>current_year</th>\n",
       "        </tr>\n",
       "    </thead>\n",
       "    <tbody>\n",
       "        <tr>\n",
       "            <td>nm0000257</td>\n",
       "            <td>Alan Alda</td>\n",
       "            <td>[&#x27;1970&#x27;, &#x27;1970&#x27;]</td>\n",
       "            <td>None</td>\n",
       "            <td>[[&#x27;The Moonshine War&#x27;, &#x27;Jenny&#x27;], [&#x27;468&#x27;, &#x27;137&#x27;], [&#x27;5.9&#x27;, &#x27;5.5&#x27;], [&#x27;1970&#x27;, &#x27;1970&#x27;]]</td>\n",
       "            <td>bad</td>\n",
       "            <td>False</td>\n",
       "            <td>1971</td>\n",
       "        </tr>\n",
       "        <tr>\n",
       "            <td>nm0000273</td>\n",
       "            <td>Alan Arkin</td>\n",
       "            <td>[&#x27;1970&#x27;]</td>\n",
       "            <td>None</td>\n",
       "            <td>[[&#x27;Catch-22&#x27;], [&#x27;22272&#x27;], [&#x27;7.0&#x27;], [&#x27;1970&#x27;]]</td>\n",
       "            <td>good</td>\n",
       "            <td>False</td>\n",
       "            <td>1971</td>\n",
       "        </tr>\n",
       "        <tr>\n",
       "            <td>nm0000869</td>\n",
       "            <td>Alan Bates</td>\n",
       "            <td>[&#x27;1970&#x27;]</td>\n",
       "            <td>None</td>\n",
       "            <td>[[&#x27;Three Sisters&#x27;], [&#x27;364&#x27;], [&#x27;6.5&#x27;], [&#x27;1970&#x27;]]</td>\n",
       "            <td>average</td>\n",
       "            <td>False</td>\n",
       "            <td>1971</td>\n",
       "        </tr>\n",
       "        <tr>\n",
       "            <td>nm0001128</td>\n",
       "            <td>Alain Delon</td>\n",
       "            <td>[&#x27;1970&#x27;, &#x27;1970&#x27;, &#x27;1970&#x27;]</td>\n",
       "            <td>[&#x27;1971&#x27;, &#x27;1971&#x27;]</td>\n",
       "            <td>[[&#x27;Le Cercle Rouge&#x27;, &#x27;The Love Mates&#x27;, &#x27;Borsalino&#x27;, &#x27;Fantasia Among the Squares&#x27;, &#x27;La veuve Couderc&#x27;], [&#x27;22796&#x27;, &#x27;236&#x27;, &#x27;3578&#x27;, &#x27;223&#x27;, &#x27;1468&#x27;], [&#x27;8.0&#x27;, &#x27;5.8&#x27;, &#x27;7.0&#x27;, &#x27;4.5&#x27;, &#x27;6.9&#x27;], [&#x27;1970&#x27;, &#x27;1970&#x27;, &#x27;1970&#x27;, &#x27;1971&#x27;, &#x27;1971&#x27;]]</td>\n",
       "            <td>bad</td>\n",
       "            <td>True</td>\n",
       "            <td>1971</td>\n",
       "        </tr>\n",
       "        <tr>\n",
       "            <td>nm0035060</td>\n",
       "            <td>Adam Arkin</td>\n",
       "            <td>None</td>\n",
       "            <td>[&#x27;1971&#x27;]</td>\n",
       "            <td>[[&#x27;Made for Each Other&#x27;], [&#x27;308&#x27;], [&#x27;6.3&#x27;], [&#x27;1971&#x27;]]</td>\n",
       "            <td>average</td>\n",
       "            <td>True</td>\n",
       "            <td>1971</td>\n",
       "        </tr>\n",
       "    </tbody>\n",
       "</table>"
      ],
      "text/plain": [
       "+-----------+-------------+--------------------------+------------------+--------------------------------------------------------------------------------------------------------------------------------------------------------------------------------------------------------------------------------+---------------+-----------+--------------+\n",
       "|   actorid |       actor |                       t1 |               t2 |                                                                                                                                                                                                                          films | quality_class | is_active | current_year |\n",
       "+-----------+-------------+--------------------------+------------------+--------------------------------------------------------------------------------------------------------------------------------------------------------------------------------------------------------------------------------+---------------+-----------+--------------+\n",
       "| nm0000257 |   Alan Alda |         ['1970', '1970'] |             None |                                                                                                                                             [['The Moonshine War', 'Jenny'], ['468', '137'], ['5.9', '5.5'], ['1970', '1970']] |           bad |     False |         1971 |\n",
       "| nm0000273 |  Alan Arkin |                 ['1970'] |             None |                                                                                                                                                                                   [['Catch-22'], ['22272'], ['7.0'], ['1970']] |          good |     False |         1971 |\n",
       "| nm0000869 |  Alan Bates |                 ['1970'] |             None |                                                                                                                                                                                [['Three Sisters'], ['364'], ['6.5'], ['1970']] |       average |     False |         1971 |\n",
       "| nm0001128 | Alain Delon | ['1970', '1970', '1970'] | ['1971', '1971'] | [['Le Cercle Rouge', 'The Love Mates', 'Borsalino', 'Fantasia Among the Squares', 'La veuve Couderc'], ['22796', '236', '3578', '223', '1468'], ['8.0', '5.8', '7.0', '4.5', '6.9'], ['1970', '1970', '1970', '1971', '1971']] |           bad |      True |         1971 |\n",
       "| nm0035060 |  Adam Arkin |                     None |         ['1971'] |                                                                                                                                                                          [['Made for Each Other'], ['308'], ['6.3'], ['1971']] |       average |      True |         1971 |\n",
       "+-----------+-------------+--------------------------+------------------+--------------------------------------------------------------------------------------------------------------------------------------------------------------------------------------------------------------------------------+---------------+-----------+--------------+"
      ]
     },
     "execution_count": 16,
     "metadata": {},
     "output_type": "execute_result"
    }
   ],
   "source": [
    "%%sql\n",
    "\n",
    "    \n",
    "WITH last_year AS (\n",
    "    SELECT actorid, actor, films, quality_class, current_year\n",
    "    FROM actors\n",
    "    WHERE current_year = 1970\n",
    "),\n",
    "this_year AS (\n",
    "    SELECT\n",
    "        actor,\n",
    "        actorid,\n",
    "        year,\n",
    "        ARRAY(ARRAY_AGG(film), ARRAY_AGG(votes), ARRAY_AGG(rating), ARRAY_AGG(year)) AS films,\n",
    "        CASE \n",
    "            WHEN avg(rating) > 8 THEN 'star'\n",
    "            WHEN avg(rating) > 7 AND avg(rating) <= 8 THEN 'good'\n",
    "            WHEN avg(rating) > 6 AND avg(rating) <= 7 THEN 'average'\n",
    "            WHEN avg(rating) <= 6 THEN 'bad'\n",
    "        END as quality_class,\n",
    "        TRUE AS is_active  \n",
    "    FROM actor_films\n",
    "    WHERE year = 1971\n",
    "    GROUP BY actor, actorid, year\n",
    ")\n",
    "SELECT\n",
    "    COALESCE(t.actorid, y.actorid) AS actorid,\n",
    "    COALESCE(t.actor, y.actor) AS actor,\n",
    "    y.films[3] as t1 , \n",
    "    t.films[3] as t2, \n",
    "    CASE \n",
    "        WHEN y.films IS NULL THEN t.films\n",
    "        WHEN t.films IS NOT NULL THEN ARRAY(concat(y.films[0] , t.films[0]) , concat(y.films[1] , t.films[1]) , concat(y.films[2] , t.films[2]), concat(y.films[3] , t.films[3]))\n",
    "        ELSE y.films\n",
    "    END AS films,\n",
    "    COALESCE(t.quality_class, y.quality_class) AS quality_class,\n",
    "    COALESCE(t.is_active, FALSE) AS is_active,\n",
    "    COALESCE(t.year, y.current_year + 1) AS current_year\n",
    "FROM this_year as t\n",
    "FULL OUTER JOIN last_year as y \n",
    "    ON t.actor = y.actor AND t.actorid = y.actorid\n",
    "ORDER BY actorid"
   ]
  },
  {
   "cell_type": "code",
   "execution_count": null,
   "id": "9752fcf6-cd7a-4e1a-b27b-e80b4e61b301",
   "metadata": {},
   "outputs": [],
   "source": []
  },
  {
   "cell_type": "code",
   "execution_count": null,
   "id": "53f75a7e-d15d-49ec-8e27-ad9a6b117be8",
   "metadata": {},
   "outputs": [],
   "source": []
  },
  {
   "cell_type": "code",
   "execution_count": null,
   "id": "b5bb7d11-ec65-42e6-9527-d3970e651ee1",
   "metadata": {},
   "outputs": [],
   "source": [
    "actual_df = do_actor_cumulative_transformation(spark, actors_df, actors_films_df)\n",
    "print(\"PRINT \",actual_df, actual_df.head())"
   ]
  },
  {
   "cell_type": "code",
   "execution_count": null,
   "id": "58ee3bf5-4a4e-4dac-9c95-2c009b0e24d5",
   "metadata": {},
   "outputs": [],
   "source": [
    "expected_data = [\n",
    "    ActorCumulative(\"nm0001128\"\n",
    "          , \"Alain Delon\"\n",
    "          , [[\"Le Cercle Rouge\", \"The Love Mates\", \"Borsalino\", \"Fantasia Among the Squares\", \"La veuve Couderc\"], [22796, 236, 3578, 223, 1468], [8.0, 5.8, 7.0, 4.5, 6.9],\n",
    "             [1970, 1970, 1970, 1971, 1971]]\n",
    "          , \"bad\"\n",
    "          , True\n",
    "          , 1971),\n",
    "    ActorCumulative(\"nm0000257\"\n",
    "          , \"Alan Alda\"\n",
    "          , [[\"The Moonshine War\", \"Jenny\"], [468, 137], [5.9, 5.5], [1970, 1970]]\n",
    "          , \"bad\"\n",
    "          , False\n",
    "          , 1971),\n",
    "    ActorCumulative(\"nm0000273\"\n",
    "          , \"Alan Arkin\"\n",
    "          , [[\"Catch-22\"], [22272], [7.0], [1970]]\n",
    "          , \"good\"\n",
    "          , False\n",
    "          , 1971),\n",
    "    ActorCumulative(\"nm0000869\"\n",
    "          , \"Alan Bates\"\n",
    "          , [[\"Three Sisters\"], [364], [6.5], [1970]]\n",
    "          , \"average\"\n",
    "          , False\n",
    "          , 1971),\n",
    "    ActorCumulative(\"nm0035060\"\n",
    "         , \"Adam Arkin\"\n",
    "         , [[\"Made for Each Other\"], [308], [6.3], [1971]]\n",
    "         , \"average\"\n",
    "         , True\n",
    "         , 1971)\n",
    "]\n",
    "expected_df = spark.createDataFrame(expected_data)"
   ]
  }
 ],
 "metadata": {
  "kernelspec": {
   "display_name": "Python 3 (ipykernel)",
   "language": "python",
   "name": "python3"
  },
  "language_info": {
   "codemirror_mode": {
    "name": "ipython",
    "version": 3
   },
   "file_extension": ".py",
   "mimetype": "text/x-python",
   "name": "python",
   "nbconvert_exporter": "python",
   "pygments_lexer": "ipython3",
   "version": "3.9.18"
  }
 },
 "nbformat": 4,
 "nbformat_minor": 5
}
